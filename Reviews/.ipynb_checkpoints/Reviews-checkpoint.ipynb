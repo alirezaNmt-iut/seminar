{
 "cells": [
  {
   "cell_type": "markdown",
   "metadata": {},
   "source": [
    "# Reviews"
   ]
  },
  {
   "cell_type": "markdown",
   "metadata": {},
   "source": [
    "### 1.  A Critical Review of Object Detection using Convolution Neural Network [here](https://ieeexplore.ieee.org/abstract/document/8681010)"
   ]
  },
  {
   "cell_type": "markdown",
   "metadata": {},
   "source": [
    "* This study aims to review CNN methods for object detection by highlighting the contribution and challenges from few recent research papers. Also how well to use these CNN techniques in combination to other methods for best suited results with other. Better performance such as increased accuracy, fast processing reduce error rates also introduced few new concernes and issues in parallel regarding the discussed methods such  as time consumption, anonymous behavior of Neural Network. To address these issues a conceptual model is presented using CNN and Lease Square Support Vector Machine(LS-SVM).\n"
   ]
  },
  {
   "cell_type": "markdown",
   "metadata": {},
   "source": [
    "#### 1. ImageNet classification with deep convolutional neural networks [here](https://dl.acm.org/doi/abs/10.1145/3065386)"
   ]
  },
  {
   "cell_type": "markdown",
   "metadata": {},
   "source": [
    "*a simple implementaion*"
   ]
  },
  {
   "cell_type": "code",
   "execution_count": null,
   "metadata": {},
   "outputs": [],
   "source": [
    "from keras.models import Model\n",
    "from keras.layers import Conv2D, MaxPool2D, Input, Flatten, Dense\n",
    "from keras.utils import to_categorical\n",
    "import keras\n",
    "import numpy as np\n",
    "import matplotlib.pyplot as plt"
   ]
  },
  {
   "cell_type": "code",
   "execution_count": 2,
   "metadata": {},
   "outputs": [],
   "source": [
    "import pickle\n",
    "xs = []\n",
    "ys = []\n",
    "for i in range(1, 6):\n",
    "        #filename = os.path.join(dir, 'data_batch_%d' % i)\n",
    "        filename = './datasets/cifar-10-batches-py/data_batch_'+str(i)\n",
    "        with open(filename, 'rb') as f:\n",
    "            datadict = pickle.load(f, encoding='bytes')\n",
    "            X = datadict[b'data']\n",
    "            Y = datadict[b'labels']\n",
    "            X = X.reshape(10000, 3, 32, 32)\n",
    "            X = X.transpose(0, 2, 3, 1).astype('float')\n",
    "            Y = np.array(Y)\n",
    "        xs.append(X)\n",
    "        ys.append(Y)\n",
    "\n",
    "X_train = np.concatenate(xs)\n",
    "Y_train = np.concatenate(ys)\n",
    "del X, Y, xs, ys"
   ]
  },
  {
   "cell_type": "code",
   "execution_count": 3,
   "metadata": {},
   "outputs": [],
   "source": [
    "filename = './datasets/cifar-10-batches-py/test_batch'\n",
    "with open(filename, 'rb') as f:\n",
    "    datadict = pickle.load(f, encoding='bytes')\n",
    "    X_test = datadict[b'data']\n",
    "    Y_test = datadict[b'labels']\n",
    "    X_test = X_test.reshape(10000, 3, 32, 32)\n",
    "    X_test = X_test.transpose(0, 2, 3, 1).astype('float')\n",
    "    Y_test = np.array(Y_test)\n"
   ]
  },
  {
   "cell_type": "code",
   "execution_count": 4,
   "metadata": {},
   "outputs": [
    {
     "name": "stdout",
     "output_type": "stream",
     "text": [
      "(10000, 32, 32, 3) (10000,) (50000, 32, 32, 3) (50000,)\n"
     ]
    }
   ],
   "source": [
    "print(X_test.shape,Y_test.shape, X_train.shape, Y_train.shape)"
   ]
  },
  {
   "cell_type": "code",
   "execution_count": 5,
   "metadata": {},
   "outputs": [],
   "source": [
    "Y_train_one_hot = to_categorical(Y_train)\n",
    "Y_test_one_hot = to_categorical(Y_test)"
   ]
  },
  {
   "cell_type": "code",
   "execution_count": 6,
   "metadata": {},
   "outputs": [],
   "source": [
    "X_train /= 255\n",
    "X_test /= 255"
   ]
  },
  {
   "cell_type": "code",
   "execution_count": null,
   "metadata": {},
   "outputs": [],
   "source": [
    "myInput = Input(shape=(32,32,3))\n",
    "conv1 = Conv2D(16,3, activation='relu',padding='same')(myInput)\n",
    "pool1 = MaxPool2D(pool_size=2)(conv1)\n",
    "conv2 = Conv2D(32,3,activation='relu',padding='same')(pool1)\n",
    "pool2 = MaxPool2D(pool_size=2)(conv2)\n",
    "conv3 = Conv2D(32,3,activation='relu',padding='same')(pool2)\n",
    "conv4 = Conv2D(32,3,activation='relu',padding='same')(conv3)\n",
    "conv5 = Conv2D(32,3,activation='relu',padding='same')(conv4)\n",
    "pool5 = MaxPool2D(pool_size=2)(conv5)\n",
    "flat = Flatten()(pool5)\n",
    "fc6 = Dense(1000, activation='relu')(flat)\n",
    "fc7 = Dense(500, activation='relu')(fc6)\n",
    "out_layer = Dense(10, activation='softmax')(fc7)\n",
    "\n",
    "myModel = Model(myInput, out_layer)"
   ]
  },
  {
   "cell_type": "code",
   "execution_count": null,
   "metadata": {},
   "outputs": [],
   "source": [
    "myModel.compile(optimizer=keras.optimizers.Adam(), loss=keras.losses.categorical_crossentropy, metrics=['accuracy'])"
   ]
  },
  {
   "cell_type": "code",
   "execution_count": null,
   "metadata": {},
   "outputs": [],
   "source": [
    "network_history = myModel.fit(X_train, Y_train_one_hot, batch_size=256, epochs=20, validation_split=0.2)"
   ]
  },
  {
   "cell_type": "code",
   "execution_count": 13,
   "metadata": {},
   "outputs": [
    {
     "name": "stdout",
     "output_type": "stream",
     "text": [
      "10000/10000 [==============================] - 5s 469us/step\n",
      "1.6445469885826112\n",
      "0.6792\n"
     ]
    }
   ],
   "source": [
    "test_loss, test_acc = myModel.evaluate(X_test, Y_test_one_hot)\n",
    "print(test_loss)\n",
    "print(test_acc)"
   ]
  },
  {
   "cell_type": "markdown",
   "metadata": {},
   "source": [
    "#### 2. Deep Neural Networks for Object Detection [here](https://proceedings.neurips.cc/paper/2013/hash/f7cade80b7cc92b991cf4d2806d6bd78-Abstract.html)"
   ]
  },
  {
   "cell_type": "markdown",
   "metadata": {},
   "source": [
    "#### 3. DeepID-Net: Object Detection with Deformable Part Based Convolutional Neural Networks [here](https://ieeexplore.ieee.org/abstract/document/7506134)"
   ]
  },
  {
   "cell_type": "markdown",
   "metadata": {},
   "source": [
    "#### 4. Spatial Pyramid Pooling in Deep Convolutional Networks for Visual Recognition [here](https://ieeexplore.ieee.org/abstract/document/7005506)"
   ]
  },
  {
   "cell_type": "markdown",
   "metadata": {},
   "source": [
    "#### 5. Region-Based Convolutional Networks for Accurate Object Detection and Segmentation [here](https://ieeexplore.ieee.org/abstract/document/7112511)"
   ]
  }
 ],
 "metadata": {
  "kernelspec": {
   "display_name": "Python 3",
   "language": "python",
   "name": "python3"
  },
  "language_info": {
   "codemirror_mode": {
    "name": "ipython",
    "version": 3
   },
   "file_extension": ".py",
   "mimetype": "text/x-python",
   "name": "python",
   "nbconvert_exporter": "python",
   "pygments_lexer": "ipython3",
   "version": "3.6.5"
  }
 },
 "nbformat": 4,
 "nbformat_minor": 4
}
