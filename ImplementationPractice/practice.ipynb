{
 "cells": [
  {
   "cell_type": "markdown",
   "metadata": {},
   "source": [
    "# Implementation practice"
   ]
  },
  {
   "cell_type": "markdown",
   "metadata": {},
   "source": [
    "### 1- Iris dataset  [here](https://archive.ics.uci.edu/ml/datasets/iris)"
   ]
  },
  {
   "cell_type": "markdown",
   "metadata": {},
   "source": [
    "150 instances in 3 categories with 4 attributes\n",
    "<br>\n",
    "<img src=\"https://python.astrotech.io/_images/iris-species.jpg\" width=\"70%\">\n",
    "<img src=\"https://python.astrotech.io/_images/iris-dataset.png\" width=\"70%\">"
   ]
  },
  {
   "cell_type": "markdown",
   "metadata": {},
   "source": [
    "####    *Required libraries: Numpy & scikit-learn*"
   ]
  },
  {
   "cell_type": "code",
   "execution_count": 1,
   "metadata": {},
   "outputs": [],
   "source": [
    "import numpy as np\n",
    "from sklearn.datasets import load_iris\n",
    "iris = load_iris()\n"
   ]
  },
  {
   "cell_type": "code",
   "execution_count": 2,
   "metadata": {},
   "outputs": [
    {
     "name": "stdout",
     "output_type": "stream",
     "text": [
      "dict_keys(['data', 'target', 'frame', 'target_names', 'DESCR', 'feature_names', 'filename'])\n",
      "(150, 4)\n",
      "(150,)\n"
     ]
    }
   ],
   "source": [
    "print(iris.keys())\n",
    "print(iris.data.shape)\n",
    "print(iris.target.shape)"
   ]
  },
  {
   "cell_type": "code",
   "execution_count": 3,
   "metadata": {},
   "outputs": [
    {
     "name": "stdout",
     "output_type": "stream",
     "text": [
      "(array([0, 1, 2]), array([50, 50, 50], dtype=int64))\n"
     ]
    }
   ],
   "source": [
    "print(np.unique(iris.target, return_counts=True))"
   ]
  },
  {
   "cell_type": "code",
   "execution_count": 4,
   "metadata": {},
   "outputs": [],
   "source": [
    "X, y = iris.data, iris.target"
   ]
  },
  {
   "cell_type": "code",
   "execution_count": 5,
   "metadata": {},
   "outputs": [],
   "source": [
    "from sklearn.neural_network import MLPClassifier\n",
    "clf = MLPClassifier()"
   ]
  },
  {
   "cell_type": "code",
   "execution_count": 6,
   "metadata": {},
   "outputs": [
    {
     "name": "stderr",
     "output_type": "stream",
     "text": [
      "c:\\python36\\lib\\site-packages\\sklearn\\neural_network\\_multilayer_perceptron.py:585: ConvergenceWarning: Stochastic Optimizer: Maximum iterations (200) reached and the optimization hasn't converged yet.\n",
      "  % self.max_iter, ConvergenceWarning)\n"
     ]
    },
    {
     "data": {
      "text/plain": [
       "MLPClassifier()"
      ]
     },
     "execution_count": 6,
     "metadata": {},
     "output_type": "execute_result"
    }
   ],
   "source": [
    "clf.fit(X, y)"
   ]
  },
  {
   "cell_type": "code",
   "execution_count": 7,
   "metadata": {},
   "outputs": [],
   "source": [
    "y_pred = clf.predict(X)"
   ]
  },
  {
   "cell_type": "code",
   "execution_count": 8,
   "metadata": {},
   "outputs": [
    {
     "name": "stdout",
     "output_type": "stream",
     "text": [
      "accuracy = 0.97\n"
     ]
    }
   ],
   "source": [
    "accuracy = np.mean(y_pred == y)\n",
    "print(\"accuracy = %.2f\" % accuracy)"
   ]
  },
  {
   "cell_type": "markdown",
   "metadata": {},
   "source": [
    "### 2- Optical Recognition of Handwritten Digits Data Set  [here](https://archive.ics.uci.edu/ml/datasets/optical+recognition+of+handwritten+digits)"
   ]
  },
  {
   "cell_type": "markdown",
   "metadata": {},
   "source": [
    "5620 instances in 10 categories(0-9 digits) with 64 attributes(8*8)\n",
    "* train : 3823\n",
    "* test : 1797"
   ]
  },
  {
   "cell_type": "markdown",
   "metadata": {},
   "source": [
    "####    *Required libraries: Numpy & scikit-learn & Matplotlib*"
   ]
  },
  {
   "cell_type": "code",
   "execution_count": 1,
   "metadata": {},
   "outputs": [],
   "source": [
    "import numpy as np"
   ]
  },
  {
   "cell_type": "code",
   "execution_count": 2,
   "metadata": {},
   "outputs": [],
   "source": [
    "f = open(\"./datasets/optdigits/optdigits.tra\", \"r\")"
   ]
  },
  {
   "cell_type": "code",
   "execution_count": 3,
   "metadata": {},
   "outputs": [],
   "source": [
    "X_train = np.zeros((3823,64), dtype=np.uint8)\n",
    "Y_train = np.zeros((3823,), dtype=np.uint8)"
   ]
  },
  {
   "cell_type": "code",
   "execution_count": 4,
   "metadata": {},
   "outputs": [
    {
     "name": "stdout",
     "output_type": "stream",
     "text": [
      "(3823, 64) \n",
      "\n",
      " (3823,)\n"
     ]
    }
   ],
   "source": [
    "s =''\n",
    "counter = 0\n",
    "for i in f.read():\n",
    "    if i == '\\n':\n",
    "        #print(\"\\n\",s,\"\\n\")\n",
    "        #print(list(s.split(\",\")),\"\\n\\n\")\n",
    "        #print(len(list(s.split(\",\"))),\"\\n\")\n",
    "        l = s.split(\",\")\n",
    "        Y_train[counter] = l.pop()\n",
    "        X_train[counter, :] = np.array(l)\n",
    "        counter+=1\n",
    "        s=''\n",
    "    else:\n",
    "        s+=i\n",
    "\n",
    "print(X_train.shape,\"\\n\\n\", Y_train.shape)"
   ]
  },
  {
   "cell_type": "markdown",
   "metadata": {},
   "source": [
    "### *some instances from dataset*"
   ]
  },
  {
   "cell_type": "code",
   "execution_count": 5,
   "metadata": {},
   "outputs": [
    {
     "data": {
      "image/png": "[encoded data removed]",
      "text/plain": [
       "<Figure size 576x576 with 64 Axes>"
      ]
     },
     "metadata": {},
     "output_type": "display_data"
    }
   ],
   "source": [
    "%matplotlib inline\n",
    "import matplotlib.pyplot as plt\n",
    "plt.rcParams['figure.figsize'] = (10, 6)\n",
    "\n",
    "fig = plt.figure(figsize=(8, 8))  # figure size in inches\n",
    "fig.subplots_adjust(left=0, right=1, bottom=0, top=1, hspace=0.05, wspace=0.05)\n",
    "\n",
    "# plot the digits: each image is 8x8 pixels\n",
    "for i in range(64):\n",
    "    ax = fig.add_subplot(8, 8, i + 1, xticks=[], yticks=[])\n",
    "    ax.imshow(X_train[i].reshape((8,8)), cmap=plt.cm.binary, interpolation='nearest')\n",
    "    \n",
    "    # label the image with the target value\n",
    "    ax.text(0, 7, str(Y_train[i]), bbox=dict(facecolor='red', alpha=0.1))"
   ]
  },
  {
   "cell_type": "code",
   "execution_count": 9,
   "metadata": {},
   "outputs": [],
   "source": [
    "f = open(\"./datasets/optdigits/optdigits.tes\", \"r\")"
   ]
  },
  {
   "cell_type": "code",
   "execution_count": 10,
   "metadata": {},
   "outputs": [],
   "source": [
    "X_test = np.zeros((1797,64), dtype=np.uint8)\n",
    "Y_test = np.zeros((1797,), dtype=np.uint8)"
   ]
  },
  {
   "cell_type": "code",
   "execution_count": 11,
   "metadata": {},
   "outputs": [
    {
     "name": "stdout",
     "output_type": "stream",
     "text": [
      "(1797, 64) \n",
      "\n",
      " (1797,)\n"
     ]
    }
   ],
   "source": [
    "s =''\n",
    "counter = 0\n",
    "for i in f.read():\n",
    "    if i == '\\n':\n",
    "        l = s.split(\",\")\n",
    "        Y_test[counter] = l.pop()\n",
    "        X_test[counter, :] = np.array(l)\n",
    "        counter+=1\n",
    "        s=''\n",
    "    else:\n",
    "        s+=i\n",
    "\n",
    "print(X_test.shape,\"\\n\\n\", Y_test.shape)"
   ]
  },
  {
   "cell_type": "code",
   "execution_count": 12,
   "metadata": {},
   "outputs": [
    {
     "name": "stdout",
     "output_type": "stream",
     "text": [
      "(array([0, 1, 2, 3, 4, 5, 6, 7, 8, 9], dtype=uint8), array([376, 389, 380, 389, 387, 376, 377, 387, 380, 382], dtype=int64))\n",
      "(array([0, 1, 2, 3, 4, 5, 6, 7, 8, 9], dtype=uint8), array([178, 182, 177, 183, 181, 182, 181, 179, 174, 180], dtype=int64))\n"
     ]
    }
   ],
   "source": [
    "print(np.unique(Y_train, return_counts=True))\n",
    "print(np.unique(Y_test, return_counts=True))"
   ]
  },
  {
   "cell_type": "code",
   "execution_count": 13,
   "metadata": {},
   "outputs": [],
   "source": [
    "from sklearn.neural_network import MLPClassifier\n",
    "clf = MLPClassifier(hidden_layer_sizes=(100,100),max_iter=300,verbose=True)"
   ]
  },
  {
   "cell_type": "code",
   "execution_count": 14,
   "metadata": {},
   "outputs": [
    {
     "name": "stdout",
     "output_type": "stream",
     "text": [
      "Iteration 1, loss = 3.22571311\n",
      "Iteration 2, loss = 0.62898135\n",
      "Iteration 3, loss = 0.28101440\n",
      "Iteration 4, loss = 0.18405401\n",
      "Iteration 5, loss = 0.13843175\n",
      "Iteration 6, loss = 0.10635682\n",
      "Iteration 7, loss = 0.08889948\n",
      "Iteration 8, loss = 0.07065079\n",
      "Iteration 9, loss = 0.06019729\n",
      "Iteration 10, loss = 0.05439547\n",
      "Iteration 11, loss = 0.04515927\n",
      "Iteration 12, loss = 0.04037868\n",
      "Iteration 13, loss = 0.03462782\n",
      "Iteration 14, loss = 0.03071079\n",
      "Iteration 15, loss = 0.03441867\n",
      "Iteration 16, loss = 0.02374489\n",
      "Iteration 17, loss = 0.02216685\n",
      "Iteration 18, loss = 0.01932924\n",
      "Iteration 19, loss = 0.01686452\n",
      "Iteration 20, loss = 0.01470831\n",
      "Iteration 21, loss = 0.01343517\n",
      "Iteration 22, loss = 0.01348402\n",
      "Iteration 23, loss = 0.01165472\n",
      "Iteration 24, loss = 0.00988700\n",
      "Iteration 25, loss = 0.01001415\n",
      "Iteration 26, loss = 0.00860576\n",
      "Iteration 27, loss = 0.00758964\n",
      "Iteration 28, loss = 0.00679056\n",
      "Iteration 29, loss = 0.00654173\n",
      "Iteration 30, loss = 0.00652657\n",
      "Iteration 31, loss = 0.00744176\n",
      "Iteration 32, loss = 0.00623040\n",
      "Iteration 33, loss = 0.00496407\n",
      "Iteration 34, loss = 0.00449794\n",
      "Iteration 35, loss = 0.00424563\n",
      "Iteration 36, loss = 0.00390890\n",
      "Iteration 37, loss = 0.00375911\n",
      "Iteration 38, loss = 0.00362428\n",
      "Iteration 39, loss = 0.00341221\n",
      "Iteration 40, loss = 0.00312032\n",
      "Iteration 41, loss = 0.00301632\n",
      "Iteration 42, loss = 0.00283228\n",
      "Iteration 43, loss = 0.00303865\n",
      "Iteration 44, loss = 0.00264187\n",
      "Iteration 45, loss = 0.00247323\n",
      "Iteration 46, loss = 0.00237940\n",
      "Iteration 47, loss = 0.00248693\n",
      "Iteration 48, loss = 0.00285687\n",
      "Iteration 49, loss = 0.00230122\n",
      "Iteration 50, loss = 0.00214838\n",
      "Iteration 51, loss = 0.00207972\n",
      "Iteration 52, loss = 0.00186097\n",
      "Iteration 53, loss = 0.00179812\n",
      "Iteration 54, loss = 0.00173053\n",
      "Iteration 55, loss = 0.00169409\n",
      "Iteration 56, loss = 0.00159523\n",
      "Iteration 57, loss = 0.00155348\n",
      "Iteration 58, loss = 0.00150021\n",
      "Iteration 59, loss = 0.00141794\n",
      "Iteration 60, loss = 0.00136183\n",
      "Iteration 61, loss = 0.00132641\n",
      "Iteration 62, loss = 0.00127752\n",
      "Iteration 63, loss = 0.00133327\n",
      "Training loss did not improve more than tol=0.000100 for 10 consecutive epochs. Stopping.\n"
     ]
    },
    {
     "data": {
      "text/plain": [
       "MLPClassifier(hidden_layer_sizes=(100, 100), max_iter=300, verbose=True)"
      ]
     },
     "execution_count": 14,
     "metadata": {},
     "output_type": "execute_result"
    }
   ],
   "source": [
    "clf.fit(X_train, Y_train)"
   ]
  },
  {
   "cell_type": "code",
   "execution_count": 15,
   "metadata": {},
   "outputs": [],
   "source": [
    "Y_pred = clf.predict(X_test)"
   ]
  },
  {
   "cell_type": "code",
   "execution_count": 16,
   "metadata": {},
   "outputs": [
    {
     "name": "stdout",
     "output_type": "stream",
     "text": [
      "accuracy = 0.97\n"
     ]
    }
   ],
   "source": [
    "accuracy = np.mean(Y_pred == Y_test)\n",
    "print(\"accuracy = %.2f\" % accuracy)"
   ]
  }
 ],
 "metadata": {
  "kernelspec": {
   "display_name": "Python 3",
   "language": "python",
   "name": "python3"
  },
  "language_info": {
   "codemirror_mode": {
    "name": "ipython",
    "version": 3
   },
   "file_extension": ".py",
   "mimetype": "text/x-python",
   "name": "python",
   "nbconvert_exporter": "python",
   "pygments_lexer": "ipython3",
   "version": "3.6.5"
  }
 },
 "nbformat": 4,
 "nbformat_minor": 4
}
